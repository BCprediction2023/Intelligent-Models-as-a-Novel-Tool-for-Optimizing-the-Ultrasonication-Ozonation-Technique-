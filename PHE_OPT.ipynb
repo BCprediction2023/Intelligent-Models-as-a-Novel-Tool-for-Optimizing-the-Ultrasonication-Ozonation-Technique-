{
 "cells": [
  {
   "cell_type": "code",
   "execution_count": null,
   "id": "8c0a42af",
   "metadata": {},
   "outputs": [],
   "source": [
    "import matplotlib.pyplot as plt\n",
    "import matplotlib as mp\n",
    "import pandas as pd\n",
    "import numpy as np\n",
    "import joblib\n",
    "import matplotlib.gridspec as gridspec\n",
    "from xgboost import XGBRegressor as XGBR\n",
    "import warnings\n",
    "warnings.filterwarnings('ignore')\n",
    "from mpl_toolkits import mplot3d\n",
    "%matplotlib inline"
   ]
  },
  {
   "cell_type": "code",
   "execution_count": null,
   "id": "f3010c71",
   "metadata": {},
   "outputs": [],
   "source": [
    "EST_XGBR= joblib.load('XGBR_PHE.sav')"
   ]
  },
  {
   "cell_type": "code",
   "execution_count": null,
   "id": "4c7fb379",
   "metadata": {},
   "outputs": [],
   "source": [
    "cdf=pd.read_excel(r'DATA.xlsx')"
   ]
  },
  {
   "cell_type": "code",
   "execution_count": null,
   "id": "b324da98",
   "metadata": {},
   "outputs": [],
   "source": [
    "cdf.columns"
   ]
  },
  {
   "cell_type": "code",
   "execution_count": null,
   "id": "55dea36f",
   "metadata": {},
   "outputs": [],
   "source": [
    "DTP=cdf[['Time', 'Wv', 'PHACons', 'O3', 'USP', 'Sand', 'Silt', 'Clay']].iloc[7:8].reset_index()"
   ]
  },
  {
   "cell_type": "code",
   "execution_count": null,
   "id": "17e6bb9a",
   "metadata": {},
   "outputs": [],
   "source": [
    "DTP.drop('index',axis=1, inplace=True)"
   ]
  },
  {
   "cell_type": "code",
   "execution_count": null,
   "id": "d3d607c5",
   "metadata": {},
   "outputs": [],
   "source": [
    "DTP"
   ]
  },
  {
   "cell_type": "code",
   "execution_count": null,
   "id": "5567f629",
   "metadata": {},
   "outputs": [],
   "source": [
    "DTP['Time']=0\n",
    "DTP['PHACons']=150\n",
    "DTP['O3']=0\n",
    "DTP['Wv']=0"
   ]
  },
  {
   "cell_type": "code",
   "execution_count": null,
   "id": "869e7b18",
   "metadata": {},
   "outputs": [],
   "source": [
    "DTP\n"
   ]
  },
  {
   "cell_type": "code",
   "execution_count": null,
   "id": "4444596d",
   "metadata": {},
   "outputs": [],
   "source": [
    "# WATER vs O3\n",
    "tt=[0,1,2,3,4,5,6]\n",
    "for t in tt:\n",
    "    print('for Time equal to : ', t)\n",
    "    DTPnew=DTP.copy()\n",
    "    Wv=np.arange(0,400,10)\n",
    "    O_3=np.arange(0,8,0.2)    # 0.13-0.33\n",
    "    l=0\n",
    "    for i in range(0,len(Wv)):\n",
    "        for j in range(0,len(O_3)):\n",
    "            DTPnew=pd.concat([DTPnew, DTP])\n",
    "            DTPnew['Wv'].iloc[l]=Wv[i]\n",
    "            DTPnew['O3'].iloc[l]=O_3[j]\n",
    "            l=l+1\n",
    "    DTPnew['Time']=t\n",
    "    DTPnew=DTPnew.reset_index()\n",
    "    DTPnew.drop('index',axis=1, inplace=True)\n",
    "    XGBR=EST_XGBR.predict(DTPnew)\n",
    "    re_max=XGBR.max()\n",
    "    print('MAX of Removal Efficency: ', re_max )\n",
    "\n",
    "    z = XGBR\n",
    "    x =DTPnew['O3']\n",
    "    y =DTPnew['Wv']\n",
    "\n",
    "    fig = plt.figure(figsize = (16, 9))\n",
    "    ax = plt.axes(projection =\"3d\")\n",
    "\n",
    "    ax.grid(b = True, color ='gray', linestyle ='-.', linewidth = 0.3, alpha = 0.2)\n",
    "    my_cmap = plt.get_cmap('rainbow')\n",
    "    sctt = ax.scatter3D(y, x, z, alpha = 0.6, c = z, cmap = my_cmap , marker ='o')\n",
    "\n",
    "\n",
    "    ax.set_xlabel('Water Volume(ml)', fontsize=14)\n",
    "    ax.set_ylabel('O3', fontsize=14)\n",
    "    ax.set_zlabel('ANT Removal efficiency %', fontsize=14)\n",
    "    fig.colorbar(sctt, ax = ax, shrink = 0.4, aspect = 20)\n",
    "    plt.show()\n",
    "    "
   ]
  },
  {
   "cell_type": "code",
   "execution_count": null,
   "id": "e2ec75b9",
   "metadata": {},
   "outputs": [],
   "source": [
    "# WATER vs O3\n",
    "\n",
    "tt=[0,1,2,3,4,5,6]\n",
    "for t in tt:\n",
    "    print('for Time equal to : ', t)\n",
    "    DTPnew=DTP.copy()\n",
    "    Wv=np.arange(0,400,10)\n",
    "    USP=np.arange(0,400,10)    # 0.13-0.33\n",
    "    l=0\n",
    "    for i in range(0,len(Wv)):\n",
    "        for j in range(0,len(USP)):\n",
    "            DTPnew=pd.concat([DTPnew, DTP])\n",
    "            DTPnew['Wv'].iloc[l]=Wv[i]\n",
    "            DTPnew['USP'].iloc[l]=USP[j]\n",
    "            l=l+1\n",
    "    DTPnew['Time']=t\n",
    "    DTPnew=DTPnew.reset_index()\n",
    "    DTPnew.drop('index',axis=1, inplace=True)\n",
    "    XGBR=EST_XGBR.predict(DTPnew)\n",
    "    re_max=XGBR.max()\n",
    "    print('MAX of Removal Efficency: ', re_max )\n",
    "\n",
    "    z = XGBR\n",
    "    x =DTPnew['USP']\n",
    "    y =DTPnew['Wv']\n",
    "\n",
    "    fig = plt.figure(figsize = (16, 9))\n",
    "    ax = plt.axes(projection =\"3d\")\n",
    "\n",
    "    ax.grid(b = True, color ='gray', linestyle ='-.', linewidth = 0.3, alpha = 0.2)\n",
    "    my_cmap = plt.get_cmap('rainbow')\n",
    "    sctt = ax.scatter3D(y, x, z, alpha = 0.6, c = z, cmap = my_cmap , marker ='o')\n",
    "\n",
    "\n",
    "    ax.set_xlabel('Water Volume(ml)', fontsize=14)\n",
    "    ax.set_ylabel('USP', fontsize=14)\n",
    "    ax.set_zlabel('ANT Removal efficiency %', fontsize=14)\n",
    "    fig.colorbar(sctt, ax = ax, shrink = 0.4, aspect = 20)\n",
    "    plt.show()\n",
    "    "
   ]
  },
  {
   "cell_type": "code",
   "execution_count": null,
   "id": "ec90ed40",
   "metadata": {},
   "outputs": [],
   "source": [
    "DTP"
   ]
  },
  {
   "cell_type": "code",
   "execution_count": null,
   "id": "306c5b7f",
   "metadata": {},
   "outputs": [],
   "source": []
  },
  {
   "cell_type": "code",
   "execution_count": null,
   "id": "2c9d3d86",
   "metadata": {},
   "outputs": [],
   "source": [
    "DTPnew=DTP.copy()\n",
    "HC=np.arange(.1,.4,0.005)\n",
    "SBet=np.arange(1,300,5)    # 0.13-0.33\n",
    "l=0\n",
    "for i in range(0,len(SBet)):\n",
    "    for j in range(0,len(HC)):\n",
    "        DTPnew=pd.concat([DTPnew, DTP])\n",
    "        DTPnew['S_Bet'].iloc[l]=SBet[i]\n",
    "        DTPnew['H/C'].iloc[l]=HC[j]\n",
    "        l=l+1\n",
    "DTPnew=DTPnew.reset_index()\n",
    "DTPnew.drop('index',axis=1, inplace=True)\n",
    "GBR=estimator_l_GB.predict(DTPnew)\n",
    "\n",
    "z = GBR\n",
    "x =DTPnew['H/C']\n",
    "y =DTPnew['S_Bet']\n",
    "\n",
    "fig = plt.figure(figsize = (16, 9))\n",
    "ax = plt.axes(projection =\"3d\")\n",
    "\n",
    "ax.grid(b = True, color ='gray', linestyle ='-.', linewidth = 0.3, alpha = 0.2)\n",
    "my_cmap = plt.get_cmap('rainbow')\n",
    "sctt = ax.scatter3D(y, x, z, alpha = 0.6, c = z, cmap = my_cmap , marker ='o')\n",
    "\n",
    "ax.set_xlabel('Surface Area', fontsize=14)\n",
    "ax.set_ylabel('H/C', fontsize=14)\n",
    "ax.set_zlabel('H2S Adsorption Capacity', fontsize=14)\n",
    "fig.colorbar(sctt, ax = ax, shrink = 0.5, aspect = 10)\n",
    "plt.show()"
   ]
  },
  {
   "cell_type": "code",
   "execution_count": null,
   "id": "b21fc3fd",
   "metadata": {
    "scrolled": false
   },
   "outputs": [],
   "source": [
    "fig = plt.figure(figsize=(30,30), dpi=300)\n",
    "gs  = gridspec.GridSpec(3, 3, wspace=0.0, hspace=0.00,\n",
    "                        width_ratios=[1, 1, 1], height_ratios=[1, 1, 1])\n",
    "\n",
    "my_cmap = plt.get_cmap('rainbow')\n",
    "\n",
    "\n",
    "tt=[1,3,6]\n",
    "cons=[100,200,350]\n",
    "jj=0\n",
    "for t in tt:\n",
    "    ii=0\n",
    "    for consentration in cons:\n",
    "        print('for Time equal to : ', t)\n",
    "        print('for Con equal to : ', consentration)\n",
    "        DTPnew=DTP.copy()\n",
    "        Wv=np.arange(0,400,25)\n",
    "        USP=np.arange(0,400,25)\n",
    "        O_3=np.arange(0,6.25,0.25)    \n",
    "        l=0\n",
    "        for i in range(0,len(Wv)):\n",
    "            for j in range(0,len(USP)):\n",
    "                for k in range(0,len(O_3)):\n",
    "                    DTPnew=pd.concat([DTPnew, DTP])\n",
    "                    DTPnew['Wv'].iloc[l]=Wv[i]\n",
    "                    DTPnew['USP'].iloc[l]=USP[j]\n",
    "                    DTPnew['O3'].iloc[l]=O_3[k]\n",
    "                    l=l+1\n",
    "        DTPnew=DTPnew.reset_index()\n",
    "        DTPnew.drop('index',axis=1, inplace=True)\n",
    "        DTPnew['Time']=t\n",
    "        DTPnew['PHACons']=consentration\n",
    "        XGBR=EST_XGBR.predict(DTPnew)\n",
    "        re_max=XGBR.max()\n",
    "        print('MAX of Removal Efficency: ', re_max )\n",
    "        cc = XGBR\n",
    "        x =DTPnew['Wv']\n",
    "        y =DTPnew['USP']\n",
    "        z =DTPnew['O3']\n",
    "        ax = fig.add_subplot(gs[jj,ii],projection='3d')\n",
    "        sctt=ax.scatter(x, y, z, alpha = 0.5, c =cc\n",
    "                        , cmap = my_cmap , marker ='o')\n",
    "        ax.grid(b = True, color ='gray', linestyle ='-.', linewidth = 0.2, alpha = 0.3)\n",
    "        ax.set_xlabel('Wv(ml)', fontsize=16, labelpad=15)\n",
    "        ax.set_ylabel('USP(w)', fontsize=16,labelpad=15)\n",
    "        ax.set_zlabel('O3(mg/kg)', fontsize=16, labelpad=5)\n",
    "        fig.colorbar(sctt, ax = ax, shrink = 0.3, aspect = 12, boundaries=[0,10,20,30,40,50,60,70,80,90,100],\n",
    "                                                               ticks=[0,20,40,60,80,100])\n",
    "        # change fontsize\n",
    "        for s in ax.zaxis.get_major_ticks(): s.label.set_fontsize(16)\n",
    "        titel= 'Time: '+ str(t) +' min' '   Con: ' + str(consentration) + 'mg/kg'+ '\\n Max.Rem.Eff : ' + str(re_max.round(1))+'%'\n",
    "        ax.set_title(titel, loc= 'center', fontsize=18)\n",
    "        plt.yticks(fontsize=16,rotation = -30)\n",
    "        plt.xticks(fontsize=16, rotation = 30)\n",
    "        ii = ii+1\n",
    "    jj = jj+1\n",
    "plt.show()\n"
   ]
  },
  {
   "cell_type": "code",
   "execution_count": null,
   "id": "251a1f3b",
   "metadata": {},
   "outputs": [],
   "source": [
    "DTPnew['Prediction']=XGBR"
   ]
  },
  {
   "cell_type": "code",
   "execution_count": null,
   "id": "0bf61039",
   "metadata": {
    "scrolled": false
   },
   "outputs": [],
   "source": [
    "DTPnew.sort_values('Prediction', axis=0, ascending=False, inplace=False).head(50).mean()"
   ]
  },
  {
   "cell_type": "code",
   "execution_count": null,
   "id": "fc5c41e1",
   "metadata": {},
   "outputs": [],
   "source": [
    "DTPnew[DTPnew.Prediction == DTPnew.Prediction.max()].head(50)"
   ]
  }
 ],
 "metadata": {
  "kernelspec": {
   "display_name": "Python 3 (ipykernel)",
   "language": "python",
   "name": "python3"
  },
  "language_info": {
   "codemirror_mode": {
    "name": "ipython",
    "version": 3
   },
   "file_extension": ".py",
   "mimetype": "text/x-python",
   "name": "python",
   "nbconvert_exporter": "python",
   "pygments_lexer": "ipython3",
   "version": "3.9.13"
  }
 },
 "nbformat": 4,
 "nbformat_minor": 5
}
